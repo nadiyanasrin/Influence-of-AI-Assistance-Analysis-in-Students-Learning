{
 "cells": [
  {
   "cell_type": "markdown",
   "id": "e2325960-ce5f-43aa-9604-e5f1ceb0e60e",
   "metadata": {},
   "source": [
    "## Exploring Student Engagement with AI Learning Tools (2024–2025)"
   ]
  },
  {
   "cell_type": "code",
   "execution_count": 2,
   "id": "81ae9f63-b8c4-4dcb-81f3-014bd88aef77",
   "metadata": {},
   "outputs": [],
   "source": [
    "import numpy as np\n",
    "import pandas as pd\n",
    "import seaborn as sns\n",
    "import matplotlib.pyplot as plt\n",
    "import warnings\n",
    "warnings.filterwarnings('ignore')\n",
    "%matplotlib inline"
   ]
  },
  {
   "cell_type": "code",
   "execution_count": 3,
   "id": "3c2ace19-eb60-4d94-b638-eaf2b87e1dde",
   "metadata": {
    "scrolled": true
   },
   "outputs": [
    {
     "data": {
      "text/html": [
       "<div>\n",
       "<style scoped>\n",
       "    .dataframe tbody tr th:only-of-type {\n",
       "        vertical-align: middle;\n",
       "    }\n",
       "\n",
       "    .dataframe tbody tr th {\n",
       "        vertical-align: top;\n",
       "    }\n",
       "\n",
       "    .dataframe thead th {\n",
       "        text-align: right;\n",
       "    }\n",
       "</style>\n",
       "<table border=\"1\" class=\"dataframe\">\n",
       "  <thead>\n",
       "    <tr style=\"text-align: right;\">\n",
       "      <th></th>\n",
       "      <th>SessionID</th>\n",
       "      <th>StudentLevel</th>\n",
       "      <th>Discipline</th>\n",
       "      <th>SessionDate</th>\n",
       "      <th>SessionLengthMin</th>\n",
       "      <th>TotalPrompts</th>\n",
       "      <th>TaskType</th>\n",
       "      <th>AI_AssistanceLevel</th>\n",
       "      <th>FinalOutcome</th>\n",
       "      <th>UsedAgain</th>\n",
       "      <th>SatisfactionRating</th>\n",
       "    </tr>\n",
       "  </thead>\n",
       "  <tbody>\n",
       "    <tr>\n",
       "      <th>0</th>\n",
       "      <td>SESSION00001</td>\n",
       "      <td>Undergraduate</td>\n",
       "      <td>Computer Science</td>\n",
       "      <td>03-11-2024</td>\n",
       "      <td>31.20</td>\n",
       "      <td>11</td>\n",
       "      <td>Studying</td>\n",
       "      <td>2</td>\n",
       "      <td>Assignment Completed</td>\n",
       "      <td>True</td>\n",
       "      <td>1.0</td>\n",
       "    </tr>\n",
       "    <tr>\n",
       "      <th>1</th>\n",
       "      <td>SESSION00002</td>\n",
       "      <td>Undergraduate</td>\n",
       "      <td>Psychology</td>\n",
       "      <td>25-08-2024</td>\n",
       "      <td>13.09</td>\n",
       "      <td>6</td>\n",
       "      <td>Studying</td>\n",
       "      <td>3</td>\n",
       "      <td>Assignment Completed</td>\n",
       "      <td>True</td>\n",
       "      <td>2.0</td>\n",
       "    </tr>\n",
       "    <tr>\n",
       "      <th>2</th>\n",
       "      <td>SESSION00003</td>\n",
       "      <td>Undergraduate</td>\n",
       "      <td>Business</td>\n",
       "      <td>12-01-2025</td>\n",
       "      <td>19.22</td>\n",
       "      <td>5</td>\n",
       "      <td>Coding</td>\n",
       "      <td>3</td>\n",
       "      <td>Assignment Completed</td>\n",
       "      <td>True</td>\n",
       "      <td>3.3</td>\n",
       "    </tr>\n",
       "    <tr>\n",
       "      <th>3</th>\n",
       "      <td>SESSION00004</td>\n",
       "      <td>Undergraduate</td>\n",
       "      <td>Computer Science</td>\n",
       "      <td>06-05-2025</td>\n",
       "      <td>3.70</td>\n",
       "      <td>1</td>\n",
       "      <td>Coding</td>\n",
       "      <td>3</td>\n",
       "      <td>Assignment Completed</td>\n",
       "      <td>True</td>\n",
       "      <td>3.5</td>\n",
       "    </tr>\n",
       "    <tr>\n",
       "      <th>4</th>\n",
       "      <td>SESSION00005</td>\n",
       "      <td>Undergraduate</td>\n",
       "      <td>Psychology</td>\n",
       "      <td>18-03-2025</td>\n",
       "      <td>28.12</td>\n",
       "      <td>9</td>\n",
       "      <td>Writing</td>\n",
       "      <td>3</td>\n",
       "      <td>Assignment Completed</td>\n",
       "      <td>True</td>\n",
       "      <td>2.9</td>\n",
       "    </tr>\n",
       "    <tr>\n",
       "      <th>...</th>\n",
       "      <td>...</td>\n",
       "      <td>...</td>\n",
       "      <td>...</td>\n",
       "      <td>...</td>\n",
       "      <td>...</td>\n",
       "      <td>...</td>\n",
       "      <td>...</td>\n",
       "      <td>...</td>\n",
       "      <td>...</td>\n",
       "      <td>...</td>\n",
       "      <td>...</td>\n",
       "    </tr>\n",
       "    <tr>\n",
       "      <th>9995</th>\n",
       "      <td>SESSION09996</td>\n",
       "      <td>Undergraduate</td>\n",
       "      <td>Psychology</td>\n",
       "      <td>20-07-2024</td>\n",
       "      <td>28.41</td>\n",
       "      <td>5</td>\n",
       "      <td>Studying</td>\n",
       "      <td>3</td>\n",
       "      <td>Assignment Completed</td>\n",
       "      <td>True</td>\n",
       "      <td>4.2</td>\n",
       "    </tr>\n",
       "    <tr>\n",
       "      <th>9996</th>\n",
       "      <td>SESSION09997</td>\n",
       "      <td>High School</td>\n",
       "      <td>Business</td>\n",
       "      <td>11-11-2024</td>\n",
       "      <td>13.98</td>\n",
       "      <td>6</td>\n",
       "      <td>Writing</td>\n",
       "      <td>5</td>\n",
       "      <td>Assignment Completed</td>\n",
       "      <td>True</td>\n",
       "      <td>5.0</td>\n",
       "    </tr>\n",
       "    <tr>\n",
       "      <th>9997</th>\n",
       "      <td>SESSION09998</td>\n",
       "      <td>Undergraduate</td>\n",
       "      <td>Biology</td>\n",
       "      <td>11-09-2024</td>\n",
       "      <td>10.78</td>\n",
       "      <td>2</td>\n",
       "      <td>Studying</td>\n",
       "      <td>3</td>\n",
       "      <td>Idea Drafted</td>\n",
       "      <td>True</td>\n",
       "      <td>3.5</td>\n",
       "    </tr>\n",
       "    <tr>\n",
       "      <th>9998</th>\n",
       "      <td>SESSION09999</td>\n",
       "      <td>Undergraduate</td>\n",
       "      <td>Business</td>\n",
       "      <td>27-10-2024</td>\n",
       "      <td>30.88</td>\n",
       "      <td>7</td>\n",
       "      <td>Writing</td>\n",
       "      <td>3</td>\n",
       "      <td>Assignment Completed</td>\n",
       "      <td>False</td>\n",
       "      <td>4.3</td>\n",
       "    </tr>\n",
       "    <tr>\n",
       "      <th>9999</th>\n",
       "      <td>SESSION10000</td>\n",
       "      <td>Undergraduate</td>\n",
       "      <td>Math</td>\n",
       "      <td>16-04-2025</td>\n",
       "      <td>10.85</td>\n",
       "      <td>3</td>\n",
       "      <td>Writing</td>\n",
       "      <td>4</td>\n",
       "      <td>Assignment Completed</td>\n",
       "      <td>True</td>\n",
       "      <td>4.9</td>\n",
       "    </tr>\n",
       "  </tbody>\n",
       "</table>\n",
       "<p>10000 rows × 11 columns</p>\n",
       "</div>"
      ],
      "text/plain": [
       "         SessionID   StudentLevel        Discipline SessionDate  \\\n",
       "0     SESSION00001  Undergraduate  Computer Science  03-11-2024   \n",
       "1     SESSION00002  Undergraduate        Psychology  25-08-2024   \n",
       "2     SESSION00003  Undergraduate          Business  12-01-2025   \n",
       "3     SESSION00004  Undergraduate  Computer Science  06-05-2025   \n",
       "4     SESSION00005  Undergraduate        Psychology  18-03-2025   \n",
       "...            ...            ...               ...         ...   \n",
       "9995  SESSION09996  Undergraduate        Psychology  20-07-2024   \n",
       "9996  SESSION09997    High School          Business  11-11-2024   \n",
       "9997  SESSION09998  Undergraduate           Biology  11-09-2024   \n",
       "9998  SESSION09999  Undergraduate          Business  27-10-2024   \n",
       "9999  SESSION10000  Undergraduate              Math  16-04-2025   \n",
       "\n",
       "      SessionLengthMin  TotalPrompts  TaskType  AI_AssistanceLevel  \\\n",
       "0                31.20            11  Studying                   2   \n",
       "1                13.09             6  Studying                   3   \n",
       "2                19.22             5    Coding                   3   \n",
       "3                 3.70             1    Coding                   3   \n",
       "4                28.12             9   Writing                   3   \n",
       "...                ...           ...       ...                 ...   \n",
       "9995             28.41             5  Studying                   3   \n",
       "9996             13.98             6   Writing                   5   \n",
       "9997             10.78             2  Studying                   3   \n",
       "9998             30.88             7   Writing                   3   \n",
       "9999             10.85             3   Writing                   4   \n",
       "\n",
       "              FinalOutcome  UsedAgain  SatisfactionRating  \n",
       "0     Assignment Completed       True                 1.0  \n",
       "1     Assignment Completed       True                 2.0  \n",
       "2     Assignment Completed       True                 3.3  \n",
       "3     Assignment Completed       True                 3.5  \n",
       "4     Assignment Completed       True                 2.9  \n",
       "...                    ...        ...                 ...  \n",
       "9995  Assignment Completed       True                 4.2  \n",
       "9996  Assignment Completed       True                 5.0  \n",
       "9997          Idea Drafted       True                 3.5  \n",
       "9998  Assignment Completed      False                 4.3  \n",
       "9999  Assignment Completed       True                 4.9  \n",
       "\n",
       "[10000 rows x 11 columns]"
      ]
     },
     "execution_count": 3,
     "metadata": {},
     "output_type": "execute_result"
    }
   ],
   "source": [
    "df=pd.read_csv(r\"C:\\Users\\HP\\Downloads\\ai_assistant_usage_student_life.csv\")\n",
    "df"
   ]
  },
  {
   "cell_type": "code",
   "execution_count": 4,
   "id": "583e849d-4ecf-47c2-a7e2-af0e73dcd2ce",
   "metadata": {},
   "outputs": [
    {
     "data": {
      "text/html": [
       "<div>\n",
       "<style scoped>\n",
       "    .dataframe tbody tr th:only-of-type {\n",
       "        vertical-align: middle;\n",
       "    }\n",
       "\n",
       "    .dataframe tbody tr th {\n",
       "        vertical-align: top;\n",
       "    }\n",
       "\n",
       "    .dataframe thead th {\n",
       "        text-align: right;\n",
       "    }\n",
       "</style>\n",
       "<table border=\"1\" class=\"dataframe\">\n",
       "  <thead>\n",
       "    <tr style=\"text-align: right;\">\n",
       "      <th></th>\n",
       "      <th>StudentLevel</th>\n",
       "      <th>Discipline</th>\n",
       "      <th>SessionDate</th>\n",
       "      <th>SessionLengthMin</th>\n",
       "      <th>TotalPrompts</th>\n",
       "      <th>TaskType</th>\n",
       "      <th>AI_AssistanceLevel</th>\n",
       "      <th>FinalOutcome</th>\n",
       "      <th>UsedAgain</th>\n",
       "      <th>SatisfactionRating</th>\n",
       "    </tr>\n",
       "  </thead>\n",
       "  <tbody>\n",
       "    <tr>\n",
       "      <th>0</th>\n",
       "      <td>Undergraduate</td>\n",
       "      <td>Computer Science</td>\n",
       "      <td>03-11-2024</td>\n",
       "      <td>31.20</td>\n",
       "      <td>11</td>\n",
       "      <td>Studying</td>\n",
       "      <td>2</td>\n",
       "      <td>Assignment Completed</td>\n",
       "      <td>True</td>\n",
       "      <td>1.0</td>\n",
       "    </tr>\n",
       "    <tr>\n",
       "      <th>1</th>\n",
       "      <td>Undergraduate</td>\n",
       "      <td>Psychology</td>\n",
       "      <td>25-08-2024</td>\n",
       "      <td>13.09</td>\n",
       "      <td>6</td>\n",
       "      <td>Studying</td>\n",
       "      <td>3</td>\n",
       "      <td>Assignment Completed</td>\n",
       "      <td>True</td>\n",
       "      <td>2.0</td>\n",
       "    </tr>\n",
       "    <tr>\n",
       "      <th>2</th>\n",
       "      <td>Undergraduate</td>\n",
       "      <td>Business</td>\n",
       "      <td>12-01-2025</td>\n",
       "      <td>19.22</td>\n",
       "      <td>5</td>\n",
       "      <td>Coding</td>\n",
       "      <td>3</td>\n",
       "      <td>Assignment Completed</td>\n",
       "      <td>True</td>\n",
       "      <td>3.3</td>\n",
       "    </tr>\n",
       "    <tr>\n",
       "      <th>3</th>\n",
       "      <td>Undergraduate</td>\n",
       "      <td>Computer Science</td>\n",
       "      <td>06-05-2025</td>\n",
       "      <td>3.70</td>\n",
       "      <td>1</td>\n",
       "      <td>Coding</td>\n",
       "      <td>3</td>\n",
       "      <td>Assignment Completed</td>\n",
       "      <td>True</td>\n",
       "      <td>3.5</td>\n",
       "    </tr>\n",
       "    <tr>\n",
       "      <th>4</th>\n",
       "      <td>Undergraduate</td>\n",
       "      <td>Psychology</td>\n",
       "      <td>18-03-2025</td>\n",
       "      <td>28.12</td>\n",
       "      <td>9</td>\n",
       "      <td>Writing</td>\n",
       "      <td>3</td>\n",
       "      <td>Assignment Completed</td>\n",
       "      <td>True</td>\n",
       "      <td>2.9</td>\n",
       "    </tr>\n",
       "    <tr>\n",
       "      <th>...</th>\n",
       "      <td>...</td>\n",
       "      <td>...</td>\n",
       "      <td>...</td>\n",
       "      <td>...</td>\n",
       "      <td>...</td>\n",
       "      <td>...</td>\n",
       "      <td>...</td>\n",
       "      <td>...</td>\n",
       "      <td>...</td>\n",
       "      <td>...</td>\n",
       "    </tr>\n",
       "    <tr>\n",
       "      <th>9995</th>\n",
       "      <td>Undergraduate</td>\n",
       "      <td>Psychology</td>\n",
       "      <td>20-07-2024</td>\n",
       "      <td>28.41</td>\n",
       "      <td>5</td>\n",
       "      <td>Studying</td>\n",
       "      <td>3</td>\n",
       "      <td>Assignment Completed</td>\n",
       "      <td>True</td>\n",
       "      <td>4.2</td>\n",
       "    </tr>\n",
       "    <tr>\n",
       "      <th>9996</th>\n",
       "      <td>High School</td>\n",
       "      <td>Business</td>\n",
       "      <td>11-11-2024</td>\n",
       "      <td>13.98</td>\n",
       "      <td>6</td>\n",
       "      <td>Writing</td>\n",
       "      <td>5</td>\n",
       "      <td>Assignment Completed</td>\n",
       "      <td>True</td>\n",
       "      <td>5.0</td>\n",
       "    </tr>\n",
       "    <tr>\n",
       "      <th>9997</th>\n",
       "      <td>Undergraduate</td>\n",
       "      <td>Biology</td>\n",
       "      <td>11-09-2024</td>\n",
       "      <td>10.78</td>\n",
       "      <td>2</td>\n",
       "      <td>Studying</td>\n",
       "      <td>3</td>\n",
       "      <td>Idea Drafted</td>\n",
       "      <td>True</td>\n",
       "      <td>3.5</td>\n",
       "    </tr>\n",
       "    <tr>\n",
       "      <th>9998</th>\n",
       "      <td>Undergraduate</td>\n",
       "      <td>Business</td>\n",
       "      <td>27-10-2024</td>\n",
       "      <td>30.88</td>\n",
       "      <td>7</td>\n",
       "      <td>Writing</td>\n",
       "      <td>3</td>\n",
       "      <td>Assignment Completed</td>\n",
       "      <td>False</td>\n",
       "      <td>4.3</td>\n",
       "    </tr>\n",
       "    <tr>\n",
       "      <th>9999</th>\n",
       "      <td>Undergraduate</td>\n",
       "      <td>Math</td>\n",
       "      <td>16-04-2025</td>\n",
       "      <td>10.85</td>\n",
       "      <td>3</td>\n",
       "      <td>Writing</td>\n",
       "      <td>4</td>\n",
       "      <td>Assignment Completed</td>\n",
       "      <td>True</td>\n",
       "      <td>4.9</td>\n",
       "    </tr>\n",
       "  </tbody>\n",
       "</table>\n",
       "<p>10000 rows × 10 columns</p>\n",
       "</div>"
      ],
      "text/plain": [
       "       StudentLevel        Discipline SessionDate  SessionLengthMin  \\\n",
       "0     Undergraduate  Computer Science  03-11-2024             31.20   \n",
       "1     Undergraduate        Psychology  25-08-2024             13.09   \n",
       "2     Undergraduate          Business  12-01-2025             19.22   \n",
       "3     Undergraduate  Computer Science  06-05-2025              3.70   \n",
       "4     Undergraduate        Psychology  18-03-2025             28.12   \n",
       "...             ...               ...         ...               ...   \n",
       "9995  Undergraduate        Psychology  20-07-2024             28.41   \n",
       "9996    High School          Business  11-11-2024             13.98   \n",
       "9997  Undergraduate           Biology  11-09-2024             10.78   \n",
       "9998  Undergraduate          Business  27-10-2024             30.88   \n",
       "9999  Undergraduate              Math  16-04-2025             10.85   \n",
       "\n",
       "      TotalPrompts  TaskType  AI_AssistanceLevel          FinalOutcome  \\\n",
       "0               11  Studying                   2  Assignment Completed   \n",
       "1                6  Studying                   3  Assignment Completed   \n",
       "2                5    Coding                   3  Assignment Completed   \n",
       "3                1    Coding                   3  Assignment Completed   \n",
       "4                9   Writing                   3  Assignment Completed   \n",
       "...            ...       ...                 ...                   ...   \n",
       "9995             5  Studying                   3  Assignment Completed   \n",
       "9996             6   Writing                   5  Assignment Completed   \n",
       "9997             2  Studying                   3          Idea Drafted   \n",
       "9998             7   Writing                   3  Assignment Completed   \n",
       "9999             3   Writing                   4  Assignment Completed   \n",
       "\n",
       "      UsedAgain  SatisfactionRating  \n",
       "0          True                 1.0  \n",
       "1          True                 2.0  \n",
       "2          True                 3.3  \n",
       "3          True                 3.5  \n",
       "4          True                 2.9  \n",
       "...         ...                 ...  \n",
       "9995       True                 4.2  \n",
       "9996       True                 5.0  \n",
       "9997       True                 3.5  \n",
       "9998      False                 4.3  \n",
       "9999       True                 4.9  \n",
       "\n",
       "[10000 rows x 10 columns]"
      ]
     },
     "execution_count": 4,
     "metadata": {},
     "output_type": "execute_result"
    }
   ],
   "source": [
    "df.drop(\"SessionID\",axis=1,inplace=True)\n",
    "df"
   ]
  },
  {
   "cell_type": "code",
   "execution_count": 5,
   "id": "79c1f0bf-2132-41d4-8faa-de582a5e4823",
   "metadata": {},
   "outputs": [],
   "source": [
    "df=df.reset_index().rename(columns={'index': 'SessionID'})\n"
   ]
  },
  {
   "cell_type": "code",
   "execution_count": 6,
   "id": "ee007cc4-6363-4406-a315-e80262c3ad0f",
   "metadata": {},
   "outputs": [
    {
     "data": {
      "text/html": [
       "<div>\n",
       "<style scoped>\n",
       "    .dataframe tbody tr th:only-of-type {\n",
       "        vertical-align: middle;\n",
       "    }\n",
       "\n",
       "    .dataframe tbody tr th {\n",
       "        vertical-align: top;\n",
       "    }\n",
       "\n",
       "    .dataframe thead th {\n",
       "        text-align: right;\n",
       "    }\n",
       "</style>\n",
       "<table border=\"1\" class=\"dataframe\">\n",
       "  <thead>\n",
       "    <tr style=\"text-align: right;\">\n",
       "      <th></th>\n",
       "      <th>SessionID</th>\n",
       "      <th>StudentLevel</th>\n",
       "      <th>Discipline</th>\n",
       "      <th>SessionDate</th>\n",
       "      <th>SessionLengthMin</th>\n",
       "      <th>TotalPrompts</th>\n",
       "      <th>TaskType</th>\n",
       "      <th>AI_AssistanceLevel</th>\n",
       "      <th>FinalOutcome</th>\n",
       "      <th>UsedAgain</th>\n",
       "      <th>SatisfactionRating</th>\n",
       "    </tr>\n",
       "  </thead>\n",
       "  <tbody>\n",
       "    <tr>\n",
       "      <th>0</th>\n",
       "      <td>0</td>\n",
       "      <td>Undergraduate</td>\n",
       "      <td>Computer Science</td>\n",
       "      <td>03-11-2024</td>\n",
       "      <td>31.20</td>\n",
       "      <td>11</td>\n",
       "      <td>Studying</td>\n",
       "      <td>2</td>\n",
       "      <td>Assignment Completed</td>\n",
       "      <td>True</td>\n",
       "      <td>1.0</td>\n",
       "    </tr>\n",
       "    <tr>\n",
       "      <th>1</th>\n",
       "      <td>1</td>\n",
       "      <td>Undergraduate</td>\n",
       "      <td>Psychology</td>\n",
       "      <td>25-08-2024</td>\n",
       "      <td>13.09</td>\n",
       "      <td>6</td>\n",
       "      <td>Studying</td>\n",
       "      <td>3</td>\n",
       "      <td>Assignment Completed</td>\n",
       "      <td>True</td>\n",
       "      <td>2.0</td>\n",
       "    </tr>\n",
       "    <tr>\n",
       "      <th>2</th>\n",
       "      <td>2</td>\n",
       "      <td>Undergraduate</td>\n",
       "      <td>Business</td>\n",
       "      <td>12-01-2025</td>\n",
       "      <td>19.22</td>\n",
       "      <td>5</td>\n",
       "      <td>Coding</td>\n",
       "      <td>3</td>\n",
       "      <td>Assignment Completed</td>\n",
       "      <td>True</td>\n",
       "      <td>3.3</td>\n",
       "    </tr>\n",
       "    <tr>\n",
       "      <th>3</th>\n",
       "      <td>3</td>\n",
       "      <td>Undergraduate</td>\n",
       "      <td>Computer Science</td>\n",
       "      <td>06-05-2025</td>\n",
       "      <td>3.70</td>\n",
       "      <td>1</td>\n",
       "      <td>Coding</td>\n",
       "      <td>3</td>\n",
       "      <td>Assignment Completed</td>\n",
       "      <td>True</td>\n",
       "      <td>3.5</td>\n",
       "    </tr>\n",
       "    <tr>\n",
       "      <th>4</th>\n",
       "      <td>4</td>\n",
       "      <td>Undergraduate</td>\n",
       "      <td>Psychology</td>\n",
       "      <td>18-03-2025</td>\n",
       "      <td>28.12</td>\n",
       "      <td>9</td>\n",
       "      <td>Writing</td>\n",
       "      <td>3</td>\n",
       "      <td>Assignment Completed</td>\n",
       "      <td>True</td>\n",
       "      <td>2.9</td>\n",
       "    </tr>\n",
       "  </tbody>\n",
       "</table>\n",
       "</div>"
      ],
      "text/plain": [
       "   SessionID   StudentLevel        Discipline SessionDate  SessionLengthMin  \\\n",
       "0          0  Undergraduate  Computer Science  03-11-2024             31.20   \n",
       "1          1  Undergraduate        Psychology  25-08-2024             13.09   \n",
       "2          2  Undergraduate          Business  12-01-2025             19.22   \n",
       "3          3  Undergraduate  Computer Science  06-05-2025              3.70   \n",
       "4          4  Undergraduate        Psychology  18-03-2025             28.12   \n",
       "\n",
       "   TotalPrompts  TaskType  AI_AssistanceLevel          FinalOutcome  \\\n",
       "0            11  Studying                   2  Assignment Completed   \n",
       "1             6  Studying                   3  Assignment Completed   \n",
       "2             5    Coding                   3  Assignment Completed   \n",
       "3             1    Coding                   3  Assignment Completed   \n",
       "4             9   Writing                   3  Assignment Completed   \n",
       "\n",
       "   UsedAgain  SatisfactionRating  \n",
       "0       True                 1.0  \n",
       "1       True                 2.0  \n",
       "2       True                 3.3  \n",
       "3       True                 3.5  \n",
       "4       True                 2.9  "
      ]
     },
     "execution_count": 6,
     "metadata": {},
     "output_type": "execute_result"
    }
   ],
   "source": [
    "df.head()"
   ]
  },
  {
   "cell_type": "code",
   "execution_count": 7,
   "id": "e4830d98-d127-4764-92d3-ec2e646d4012",
   "metadata": {},
   "outputs": [
    {
     "data": {
      "text/html": [
       "<div>\n",
       "<style scoped>\n",
       "    .dataframe tbody tr th:only-of-type {\n",
       "        vertical-align: middle;\n",
       "    }\n",
       "\n",
       "    .dataframe tbody tr th {\n",
       "        vertical-align: top;\n",
       "    }\n",
       "\n",
       "    .dataframe thead th {\n",
       "        text-align: right;\n",
       "    }\n",
       "</style>\n",
       "<table border=\"1\" class=\"dataframe\">\n",
       "  <thead>\n",
       "    <tr style=\"text-align: right;\">\n",
       "      <th></th>\n",
       "      <th>SessionID</th>\n",
       "      <th>StudentLevel</th>\n",
       "      <th>Discipline</th>\n",
       "      <th>SessionDate</th>\n",
       "      <th>SessionLengthMin</th>\n",
       "      <th>TotalPrompts</th>\n",
       "      <th>TaskType</th>\n",
       "      <th>AI_AssistanceLevel</th>\n",
       "      <th>FinalOutcome</th>\n",
       "      <th>UsedAgain</th>\n",
       "      <th>SatisfactionRating</th>\n",
       "    </tr>\n",
       "  </thead>\n",
       "  <tbody>\n",
       "    <tr>\n",
       "      <th>9995</th>\n",
       "      <td>9995</td>\n",
       "      <td>Undergraduate</td>\n",
       "      <td>Psychology</td>\n",
       "      <td>20-07-2024</td>\n",
       "      <td>28.41</td>\n",
       "      <td>5</td>\n",
       "      <td>Studying</td>\n",
       "      <td>3</td>\n",
       "      <td>Assignment Completed</td>\n",
       "      <td>True</td>\n",
       "      <td>4.2</td>\n",
       "    </tr>\n",
       "    <tr>\n",
       "      <th>9996</th>\n",
       "      <td>9996</td>\n",
       "      <td>High School</td>\n",
       "      <td>Business</td>\n",
       "      <td>11-11-2024</td>\n",
       "      <td>13.98</td>\n",
       "      <td>6</td>\n",
       "      <td>Writing</td>\n",
       "      <td>5</td>\n",
       "      <td>Assignment Completed</td>\n",
       "      <td>True</td>\n",
       "      <td>5.0</td>\n",
       "    </tr>\n",
       "    <tr>\n",
       "      <th>9997</th>\n",
       "      <td>9997</td>\n",
       "      <td>Undergraduate</td>\n",
       "      <td>Biology</td>\n",
       "      <td>11-09-2024</td>\n",
       "      <td>10.78</td>\n",
       "      <td>2</td>\n",
       "      <td>Studying</td>\n",
       "      <td>3</td>\n",
       "      <td>Idea Drafted</td>\n",
       "      <td>True</td>\n",
       "      <td>3.5</td>\n",
       "    </tr>\n",
       "    <tr>\n",
       "      <th>9998</th>\n",
       "      <td>9998</td>\n",
       "      <td>Undergraduate</td>\n",
       "      <td>Business</td>\n",
       "      <td>27-10-2024</td>\n",
       "      <td>30.88</td>\n",
       "      <td>7</td>\n",
       "      <td>Writing</td>\n",
       "      <td>3</td>\n",
       "      <td>Assignment Completed</td>\n",
       "      <td>False</td>\n",
       "      <td>4.3</td>\n",
       "    </tr>\n",
       "    <tr>\n",
       "      <th>9999</th>\n",
       "      <td>9999</td>\n",
       "      <td>Undergraduate</td>\n",
       "      <td>Math</td>\n",
       "      <td>16-04-2025</td>\n",
       "      <td>10.85</td>\n",
       "      <td>3</td>\n",
       "      <td>Writing</td>\n",
       "      <td>4</td>\n",
       "      <td>Assignment Completed</td>\n",
       "      <td>True</td>\n",
       "      <td>4.9</td>\n",
       "    </tr>\n",
       "  </tbody>\n",
       "</table>\n",
       "</div>"
      ],
      "text/plain": [
       "      SessionID   StudentLevel  Discipline SessionDate  SessionLengthMin  \\\n",
       "9995       9995  Undergraduate  Psychology  20-07-2024             28.41   \n",
       "9996       9996    High School    Business  11-11-2024             13.98   \n",
       "9997       9997  Undergraduate     Biology  11-09-2024             10.78   \n",
       "9998       9998  Undergraduate    Business  27-10-2024             30.88   \n",
       "9999       9999  Undergraduate        Math  16-04-2025             10.85   \n",
       "\n",
       "      TotalPrompts  TaskType  AI_AssistanceLevel          FinalOutcome  \\\n",
       "9995             5  Studying                   3  Assignment Completed   \n",
       "9996             6   Writing                   5  Assignment Completed   \n",
       "9997             2  Studying                   3          Idea Drafted   \n",
       "9998             7   Writing                   3  Assignment Completed   \n",
       "9999             3   Writing                   4  Assignment Completed   \n",
       "\n",
       "      UsedAgain  SatisfactionRating  \n",
       "9995       True                 4.2  \n",
       "9996       True                 5.0  \n",
       "9997       True                 3.5  \n",
       "9998      False                 4.3  \n",
       "9999       True                 4.9  "
      ]
     },
     "execution_count": 7,
     "metadata": {},
     "output_type": "execute_result"
    }
   ],
   "source": [
    "df.tail()"
   ]
  },
  {
   "cell_type": "code",
   "execution_count": 8,
   "id": "ea60e72b-aaa6-45d9-8450-099261e7782d",
   "metadata": {},
   "outputs": [
    {
     "data": {
      "text/plain": [
       "(10000, 11)"
      ]
     },
     "execution_count": 8,
     "metadata": {},
     "output_type": "execute_result"
    }
   ],
   "source": [
    "df.shape"
   ]
  },
  {
   "cell_type": "code",
   "execution_count": 9,
   "id": "df56d82f-0975-4f63-9cfd-255babccc6a8",
   "metadata": {},
   "outputs": [
    {
     "data": {
      "text/plain": [
       "110000"
      ]
     },
     "execution_count": 9,
     "metadata": {},
     "output_type": "execute_result"
    }
   ],
   "source": [
    "df.size"
   ]
  },
  {
   "cell_type": "code",
   "execution_count": 10,
   "id": "6423903d-f1d7-4880-a831-7c0f62bf40f0",
   "metadata": {},
   "outputs": [
    {
     "data": {
      "text/plain": [
       "Index(['SessionID', 'StudentLevel', 'Discipline', 'SessionDate',\n",
       "       'SessionLengthMin', 'TotalPrompts', 'TaskType', 'AI_AssistanceLevel',\n",
       "       'FinalOutcome', 'UsedAgain', 'SatisfactionRating'],\n",
       "      dtype='object')"
      ]
     },
     "execution_count": 10,
     "metadata": {},
     "output_type": "execute_result"
    }
   ],
   "source": [
    "df.columns"
   ]
  },
  {
   "cell_type": "code",
   "execution_count": 11,
   "id": "95ea70ed-c95e-4df5-8b15-bfeb7e2a89a8",
   "metadata": {},
   "outputs": [
    {
     "data": {
      "text/plain": [
       "SessionID               int64\n",
       "StudentLevel           object\n",
       "Discipline             object\n",
       "SessionDate            object\n",
       "SessionLengthMin      float64\n",
       "TotalPrompts            int64\n",
       "TaskType               object\n",
       "AI_AssistanceLevel      int64\n",
       "FinalOutcome           object\n",
       "UsedAgain                bool\n",
       "SatisfactionRating    float64\n",
       "dtype: object"
      ]
     },
     "execution_count": 11,
     "metadata": {},
     "output_type": "execute_result"
    }
   ],
   "source": [
    "df.dtypes"
   ]
  },
  {
   "cell_type": "code",
   "execution_count": 12,
   "id": "7a2507ad-7432-4e0e-873a-7299b456160f",
   "metadata": {},
   "outputs": [
    {
     "data": {
      "text/plain": [
       "<bound method DataFrame.info of       SessionID   StudentLevel        Discipline SessionDate  \\\n",
       "0             0  Undergraduate  Computer Science  03-11-2024   \n",
       "1             1  Undergraduate        Psychology  25-08-2024   \n",
       "2             2  Undergraduate          Business  12-01-2025   \n",
       "3             3  Undergraduate  Computer Science  06-05-2025   \n",
       "4             4  Undergraduate        Psychology  18-03-2025   \n",
       "...         ...            ...               ...         ...   \n",
       "9995       9995  Undergraduate        Psychology  20-07-2024   \n",
       "9996       9996    High School          Business  11-11-2024   \n",
       "9997       9997  Undergraduate           Biology  11-09-2024   \n",
       "9998       9998  Undergraduate          Business  27-10-2024   \n",
       "9999       9999  Undergraduate              Math  16-04-2025   \n",
       "\n",
       "      SessionLengthMin  TotalPrompts  TaskType  AI_AssistanceLevel  \\\n",
       "0                31.20            11  Studying                   2   \n",
       "1                13.09             6  Studying                   3   \n",
       "2                19.22             5    Coding                   3   \n",
       "3                 3.70             1    Coding                   3   \n",
       "4                28.12             9   Writing                   3   \n",
       "...                ...           ...       ...                 ...   \n",
       "9995             28.41             5  Studying                   3   \n",
       "9996             13.98             6   Writing                   5   \n",
       "9997             10.78             2  Studying                   3   \n",
       "9998             30.88             7   Writing                   3   \n",
       "9999             10.85             3   Writing                   4   \n",
       "\n",
       "              FinalOutcome  UsedAgain  SatisfactionRating  \n",
       "0     Assignment Completed       True                 1.0  \n",
       "1     Assignment Completed       True                 2.0  \n",
       "2     Assignment Completed       True                 3.3  \n",
       "3     Assignment Completed       True                 3.5  \n",
       "4     Assignment Completed       True                 2.9  \n",
       "...                    ...        ...                 ...  \n",
       "9995  Assignment Completed       True                 4.2  \n",
       "9996  Assignment Completed       True                 5.0  \n",
       "9997          Idea Drafted       True                 3.5  \n",
       "9998  Assignment Completed      False                 4.3  \n",
       "9999  Assignment Completed       True                 4.9  \n",
       "\n",
       "[10000 rows x 11 columns]>"
      ]
     },
     "execution_count": 12,
     "metadata": {},
     "output_type": "execute_result"
    }
   ],
   "source": [
    "df.info"
   ]
  },
  {
   "cell_type": "code",
   "execution_count": 13,
   "id": "1400a04c-b511-47f9-9161-b25709f45c26",
   "metadata": {},
   "outputs": [
    {
     "data": {
      "text/html": [
       "<div>\n",
       "<style scoped>\n",
       "    .dataframe tbody tr th:only-of-type {\n",
       "        vertical-align: middle;\n",
       "    }\n",
       "\n",
       "    .dataframe tbody tr th {\n",
       "        vertical-align: top;\n",
       "    }\n",
       "\n",
       "    .dataframe thead th {\n",
       "        text-align: right;\n",
       "    }\n",
       "</style>\n",
       "<table border=\"1\" class=\"dataframe\">\n",
       "  <thead>\n",
       "    <tr style=\"text-align: right;\">\n",
       "      <th></th>\n",
       "      <th>count</th>\n",
       "      <th>unique</th>\n",
       "      <th>top</th>\n",
       "      <th>freq</th>\n",
       "      <th>mean</th>\n",
       "      <th>std</th>\n",
       "      <th>min</th>\n",
       "      <th>25%</th>\n",
       "      <th>50%</th>\n",
       "      <th>75%</th>\n",
       "      <th>max</th>\n",
       "    </tr>\n",
       "  </thead>\n",
       "  <tbody>\n",
       "    <tr>\n",
       "      <th>SessionID</th>\n",
       "      <td>10000.0</td>\n",
       "      <td>NaN</td>\n",
       "      <td>NaN</td>\n",
       "      <td>NaN</td>\n",
       "      <td>4999.5</td>\n",
       "      <td>2886.89568</td>\n",
       "      <td>0.0</td>\n",
       "      <td>2499.75</td>\n",
       "      <td>4999.5</td>\n",
       "      <td>7499.25</td>\n",
       "      <td>9999.0</td>\n",
       "    </tr>\n",
       "    <tr>\n",
       "      <th>StudentLevel</th>\n",
       "      <td>10000</td>\n",
       "      <td>3</td>\n",
       "      <td>Undergraduate</td>\n",
       "      <td>5978</td>\n",
       "      <td>NaN</td>\n",
       "      <td>NaN</td>\n",
       "      <td>NaN</td>\n",
       "      <td>NaN</td>\n",
       "      <td>NaN</td>\n",
       "      <td>NaN</td>\n",
       "      <td>NaN</td>\n",
       "    </tr>\n",
       "    <tr>\n",
       "      <th>Discipline</th>\n",
       "      <td>10000</td>\n",
       "      <td>7</td>\n",
       "      <td>Biology</td>\n",
       "      <td>1458</td>\n",
       "      <td>NaN</td>\n",
       "      <td>NaN</td>\n",
       "      <td>NaN</td>\n",
       "      <td>NaN</td>\n",
       "      <td>NaN</td>\n",
       "      <td>NaN</td>\n",
       "      <td>NaN</td>\n",
       "    </tr>\n",
       "    <tr>\n",
       "      <th>SessionDate</th>\n",
       "      <td>10000</td>\n",
       "      <td>366</td>\n",
       "      <td>03-04-2025</td>\n",
       "      <td>41</td>\n",
       "      <td>NaN</td>\n",
       "      <td>NaN</td>\n",
       "      <td>NaN</td>\n",
       "      <td>NaN</td>\n",
       "      <td>NaN</td>\n",
       "      <td>NaN</td>\n",
       "      <td>NaN</td>\n",
       "    </tr>\n",
       "    <tr>\n",
       "      <th>SessionLengthMin</th>\n",
       "      <td>10000.0</td>\n",
       "      <td>NaN</td>\n",
       "      <td>NaN</td>\n",
       "      <td>NaN</td>\n",
       "      <td>19.846467</td>\n",
       "      <td>13.897302</td>\n",
       "      <td>0.03</td>\n",
       "      <td>9.63</td>\n",
       "      <td>16.65</td>\n",
       "      <td>26.67</td>\n",
       "      <td>110.81</td>\n",
       "    </tr>\n",
       "    <tr>\n",
       "      <th>TotalPrompts</th>\n",
       "      <td>10000.0</td>\n",
       "      <td>NaN</td>\n",
       "      <td>NaN</td>\n",
       "      <td>NaN</td>\n",
       "      <td>5.6075</td>\n",
       "      <td>4.648764</td>\n",
       "      <td>1.0</td>\n",
       "      <td>2.0</td>\n",
       "      <td>4.0</td>\n",
       "      <td>8.0</td>\n",
       "      <td>39.0</td>\n",
       "    </tr>\n",
       "    <tr>\n",
       "      <th>TaskType</th>\n",
       "      <td>10000</td>\n",
       "      <td>6</td>\n",
       "      <td>Writing</td>\n",
       "      <td>3101</td>\n",
       "      <td>NaN</td>\n",
       "      <td>NaN</td>\n",
       "      <td>NaN</td>\n",
       "      <td>NaN</td>\n",
       "      <td>NaN</td>\n",
       "      <td>NaN</td>\n",
       "      <td>NaN</td>\n",
       "    </tr>\n",
       "    <tr>\n",
       "      <th>AI_AssistanceLevel</th>\n",
       "      <td>10000.0</td>\n",
       "      <td>NaN</td>\n",
       "      <td>NaN</td>\n",
       "      <td>NaN</td>\n",
       "      <td>3.4795</td>\n",
       "      <td>0.991805</td>\n",
       "      <td>1.0</td>\n",
       "      <td>3.0</td>\n",
       "      <td>4.0</td>\n",
       "      <td>4.0</td>\n",
       "      <td>5.0</td>\n",
       "    </tr>\n",
       "    <tr>\n",
       "      <th>FinalOutcome</th>\n",
       "      <td>10000</td>\n",
       "      <td>4</td>\n",
       "      <td>Assignment Completed</td>\n",
       "      <td>4768</td>\n",
       "      <td>NaN</td>\n",
       "      <td>NaN</td>\n",
       "      <td>NaN</td>\n",
       "      <td>NaN</td>\n",
       "      <td>NaN</td>\n",
       "      <td>NaN</td>\n",
       "      <td>NaN</td>\n",
       "    </tr>\n",
       "    <tr>\n",
       "      <th>UsedAgain</th>\n",
       "      <td>10000</td>\n",
       "      <td>2</td>\n",
       "      <td>True</td>\n",
       "      <td>7064</td>\n",
       "      <td>NaN</td>\n",
       "      <td>NaN</td>\n",
       "      <td>NaN</td>\n",
       "      <td>NaN</td>\n",
       "      <td>NaN</td>\n",
       "      <td>NaN</td>\n",
       "      <td>NaN</td>\n",
       "    </tr>\n",
       "    <tr>\n",
       "      <th>SatisfactionRating</th>\n",
       "      <td>10000.0</td>\n",
       "      <td>NaN</td>\n",
       "      <td>NaN</td>\n",
       "      <td>NaN</td>\n",
       "      <td>3.41778</td>\n",
       "      <td>1.143331</td>\n",
       "      <td>1.0</td>\n",
       "      <td>2.6</td>\n",
       "      <td>3.5</td>\n",
       "      <td>4.4</td>\n",
       "      <td>5.0</td>\n",
       "    </tr>\n",
       "  </tbody>\n",
       "</table>\n",
       "</div>"
      ],
      "text/plain": [
       "                      count unique                   top  freq       mean  \\\n",
       "SessionID           10000.0    NaN                   NaN   NaN     4999.5   \n",
       "StudentLevel          10000      3         Undergraduate  5978        NaN   \n",
       "Discipline            10000      7               Biology  1458        NaN   \n",
       "SessionDate           10000    366            03-04-2025    41        NaN   \n",
       "SessionLengthMin    10000.0    NaN                   NaN   NaN  19.846467   \n",
       "TotalPrompts        10000.0    NaN                   NaN   NaN     5.6075   \n",
       "TaskType              10000      6               Writing  3101        NaN   \n",
       "AI_AssistanceLevel  10000.0    NaN                   NaN   NaN     3.4795   \n",
       "FinalOutcome          10000      4  Assignment Completed  4768        NaN   \n",
       "UsedAgain             10000      2                  True  7064        NaN   \n",
       "SatisfactionRating  10000.0    NaN                   NaN   NaN    3.41778   \n",
       "\n",
       "                           std   min      25%     50%      75%     max  \n",
       "SessionID           2886.89568   0.0  2499.75  4999.5  7499.25  9999.0  \n",
       "StudentLevel               NaN   NaN      NaN     NaN      NaN     NaN  \n",
       "Discipline                 NaN   NaN      NaN     NaN      NaN     NaN  \n",
       "SessionDate                NaN   NaN      NaN     NaN      NaN     NaN  \n",
       "SessionLengthMin     13.897302  0.03     9.63   16.65    26.67  110.81  \n",
       "TotalPrompts          4.648764   1.0      2.0     4.0      8.0    39.0  \n",
       "TaskType                   NaN   NaN      NaN     NaN      NaN     NaN  \n",
       "AI_AssistanceLevel    0.991805   1.0      3.0     4.0      4.0     5.0  \n",
       "FinalOutcome               NaN   NaN      NaN     NaN      NaN     NaN  \n",
       "UsedAgain                  NaN   NaN      NaN     NaN      NaN     NaN  \n",
       "SatisfactionRating    1.143331   1.0      2.6     3.5      4.4     5.0  "
      ]
     },
     "execution_count": 13,
     "metadata": {},
     "output_type": "execute_result"
    }
   ],
   "source": [
    "df.describe(include='all').T"
   ]
  },
  {
   "cell_type": "code",
   "execution_count": 14,
   "id": "1ffc82e3-8814-4d20-b216-86a195301dfd",
   "metadata": {},
   "outputs": [
    {
     "data": {
      "text/plain": [
       "0"
      ]
     },
     "execution_count": 14,
     "metadata": {},
     "output_type": "execute_result"
    }
   ],
   "source": [
    "df.duplicated().sum()"
   ]
  },
  {
   "cell_type": "code",
   "execution_count": 15,
   "id": "2788e32d-10f0-432a-9ef8-7deba1d684cb",
   "metadata": {},
   "outputs": [
    {
     "data": {
      "text/plain": [
       "SessionID             0\n",
       "StudentLevel          0\n",
       "Discipline            0\n",
       "SessionDate           0\n",
       "SessionLengthMin      0\n",
       "TotalPrompts          0\n",
       "TaskType              0\n",
       "AI_AssistanceLevel    0\n",
       "FinalOutcome          0\n",
       "UsedAgain             0\n",
       "SatisfactionRating    0\n",
       "dtype: int64"
      ]
     },
     "execution_count": 15,
     "metadata": {},
     "output_type": "execute_result"
    }
   ],
   "source": [
    "df.isnull().sum()"
   ]
  },
  {
   "cell_type": "code",
   "execution_count": 16,
   "id": "7f10c59a-1d37-4881-b426-e6a2c557fb0b",
   "metadata": {},
   "outputs": [
    {
     "data": {
      "text/plain": [
       "SessionID             10000\n",
       "StudentLevel              3\n",
       "Discipline                7\n",
       "SessionDate             366\n",
       "SessionLengthMin       4078\n",
       "TotalPrompts             37\n",
       "TaskType                  6\n",
       "AI_AssistanceLevel        5\n",
       "FinalOutcome              4\n",
       "UsedAgain                 2\n",
       "SatisfactionRating       41\n",
       "dtype: int64"
      ]
     },
     "execution_count": 16,
     "metadata": {},
     "output_type": "execute_result"
    }
   ],
   "source": [
    "df.nunique()"
   ]
  },
  {
   "cell_type": "code",
   "execution_count": 17,
   "id": "d4385c08-c7ad-4c99-a506-1796c9dffbc8",
   "metadata": {},
   "outputs": [
    {
     "name": "stdout",
     "output_type": "stream",
     "text": [
      "SessionID\n",
      "[   0    1    2 ... 9997 9998 9999]\n",
      "--------------------------------------------------\n",
      "\n",
      "\n",
      "StudentLevel\n",
      "['Undergraduate' 'Graduate' 'High School']\n",
      "--------------------------------------------------\n",
      "\n",
      "\n",
      "Discipline\n",
      "['Computer Science' 'Psychology' 'Business' 'Biology' 'Math' 'History'\n",
      " 'Engineering']\n",
      "--------------------------------------------------\n",
      "\n",
      "\n",
      "SessionDate\n",
      "['03-11-2024' '25-08-2024' '12-01-2025' '06-05-2025' '18-03-2025'\n",
      " '17-01-2025' '07-09-2024' '26-12-2024' '18-06-2025' '14-04-2025'\n",
      " '24-02-2025' '07-11-2024' '05-07-2024' '21-05-2025' '22-11-2024'\n",
      " '27-04-2025' '13-04-2025' '08-12-2024' '03-08-2024' '03-05-2025'\n",
      " '09-01-2025' '21-04-2025' '05-05-2025' '27-11-2024' '14-09-2024'\n",
      " '28-08-2024' '05-09-2024' '20-02-2025' '26-02-2025' '28-12-2024'\n",
      " '20-04-2025' '06-02-2025' '10-04-2025' '21-03-2025' '19-07-2024'\n",
      " '09-04-2025' '20-09-2024' '14-05-2025' '06-03-2025' '21-06-2025'\n",
      " '13-06-2025' '23-04-2025' '01-01-2025' '26-01-2025' '19-04-2025'\n",
      " '18-12-2024' '21-11-2024' '27-10-2024' '28-02-2025' '14-11-2024'\n",
      " '09-09-2024' '08-06-2025' '10-07-2024' '08-07-2024' '16-12-2024'\n",
      " '25-06-2024' '31-01-2025' '09-11-2024' '30-06-2024' '09-03-2025'\n",
      " '15-11-2024' '02-03-2025' '02-11-2024' '02-12-2024' '11-04-2025'\n",
      " '15-05-2025' '26-06-2024' '24-10-2024' '24-05-2025' '20-12-2024'\n",
      " '27-07-2024' '15-08-2024' '17-05-2025' '31-07-2024' '09-02-2025'\n",
      " '28-01-2025' '17-04-2025' '08-08-2024' '24-12-2024' '24-01-2025'\n",
      " '01-04-2025' '15-04-2025' '09-08-2024' '21-02-2025' '04-05-2025'\n",
      " '06-07-2024' '25-04-2025' '25-10-2024' '27-09-2024' '23-10-2024'\n",
      " '18-01-2025' '09-05-2025' '06-12-2024' '15-10-2024' '09-07-2024'\n",
      " '23-05-2025' '04-08-2024' '15-07-2024' '23-06-2025' '18-10-2024'\n",
      " '16-08-2024' '02-10-2024' '18-11-2024' '22-08-2024' '11-10-2024'\n",
      " '20-05-2025' '01-12-2024' '22-07-2024' '16-01-2025' '12-11-2024'\n",
      " '23-07-2024' '03-01-2025' '21-10-2024' '06-04-2025' '29-11-2024'\n",
      " '02-07-2024' '04-07-2024' '12-10-2024' '29-10-2024' '03-09-2024'\n",
      " '27-03-2025' '30-07-2024' '27-05-2025' '20-06-2025' '13-01-2025'\n",
      " '13-02-2025' '11-02-2025' '01-08-2024' '11-11-2024' '07-08-2024'\n",
      " '04-10-2024' '18-04-2025' '31-10-2024' '04-06-2025' '11-08-2024'\n",
      " '02-09-2024' '02-02-2025' '05-02-2025' '30-04-2025' '24-07-2024'\n",
      " '21-09-2024' '13-07-2024' '09-10-2024' '22-10-2024' '16-05-2025'\n",
      " '23-01-2025' '20-01-2025' '22-06-2025' '03-02-2025' '19-03-2025'\n",
      " '22-01-2025' '17-10-2024' '10-06-2025' '02-08-2024' '06-06-2025'\n",
      " '12-04-2025' '15-06-2025' '30-05-2025' '04-12-2024' '06-10-2024'\n",
      " '07-04-2025' '14-07-2024' '20-07-2024' '07-02-2025' '05-06-2025'\n",
      " '23-12-2024' '28-11-2024' '24-08-2024' '08-02-2025' '27-01-2025'\n",
      " '28-04-2025' '28-09-2024' '25-07-2024' '30-01-2025' '23-03-2025'\n",
      " '26-05-2025' '23-02-2025' '16-09-2024' '03-04-2025' '26-03-2025'\n",
      " '12-08-2024' '25-05-2025' '16-03-2025' '07-01-2025' '24-09-2024'\n",
      " '15-03-2025' '29-05-2025' '08-10-2024' '04-09-2024' '17-07-2024'\n",
      " '07-12-2024' '13-09-2024' '17-02-2025' '06-09-2024' '10-05-2025'\n",
      " '14-01-2025' '04-11-2024' '30-11-2024' '12-06-2025' '13-10-2024'\n",
      " '18-02-2025' '22-05-2025' '25-03-2025' '01-10-2024' '14-02-2025'\n",
      " '24-06-2024' '30-09-2024' '27-02-2025' '04-02-2025' '11-03-2025'\n",
      " '14-08-2024' '29-09-2024' '12-07-2024' '24-11-2024' '06-08-2024'\n",
      " '04-03-2025' '29-03-2025' '12-05-2025' '29-06-2024' '12-09-2024'\n",
      " '14-12-2024' '19-08-2024' '20-08-2024' '10-08-2024' '28-10-2024'\n",
      " '07-03-2025' '11-01-2025' '13-12-2024' '08-03-2025' '10-09-2024'\n",
      " '25-02-2025' '08-11-2024' '26-09-2024' '31-12-2024' '30-12-2024'\n",
      " '10-12-2024' '09-12-2024' '21-12-2024' '13-05-2025' '19-12-2024'\n",
      " '14-10-2024' '11-09-2024' '05-08-2024' '01-06-2025' '17-08-2024'\n",
      " '10-10-2024' '31-08-2024' '16-04-2025' '15-01-2025' '17-12-2024'\n",
      " '06-11-2024' '19-10-2024' '01-03-2025' '19-09-2024' '15-12-2024'\n",
      " '27-12-2024' '17-09-2024' '11-12-2024' '23-09-2024' '29-12-2024'\n",
      " '20-11-2024' '05-10-2024' '31-03-2025' '07-10-2024' '10-01-2025'\n",
      " '01-07-2024' '18-07-2024' '02-06-2025' '25-09-2024' '10-03-2025'\n",
      " '25-01-2025' '17-06-2025' '22-02-2025' '04-04-2025' '20-10-2024'\n",
      " '30-03-2025' '05-12-2024' '02-05-2025' '12-02-2025' '29-01-2025'\n",
      " '08-09-2024' '11-07-2024' '01-11-2024' '22-12-2024' '12-12-2024'\n",
      " '15-09-2024' '28-06-2024' '16-02-2025' '25-12-2024' '27-08-2024'\n",
      " '02-04-2025' '07-05-2025' '29-04-2025' '03-06-2025' '30-10-2024'\n",
      " '28-07-2024' '05-01-2025' '26-08-2024' '01-02-2025' '29-08-2024'\n",
      " '23-08-2024' '22-09-2024' '01-09-2024' '11-05-2025' '16-10-2024'\n",
      " '19-02-2025' '13-11-2024' '31-05-2025' '17-03-2025' '17-11-2024'\n",
      " '16-11-2024' '07-07-2024' '26-07-2024' '22-03-2025' '28-03-2025'\n",
      " '13-03-2025' '03-10-2024' '19-06-2025' '29-07-2024' '20-03-2025'\n",
      " '03-03-2025' '19-01-2025' '11-06-2025' '21-01-2025' '01-05-2025'\n",
      " '26-04-2025' '21-07-2024' '26-10-2024' '19-05-2025' '22-04-2025'\n",
      " '03-07-2024' '08-04-2025' '24-04-2025' '16-07-2024' '21-08-2024'\n",
      " '12-03-2025' '14-06-2025' '04-01-2025' '06-01-2025' '05-11-2024'\n",
      " '08-01-2025' '23-11-2024' '26-11-2024' '14-03-2025' '13-08-2024'\n",
      " '18-05-2025' '15-02-2025' '18-09-2024' '02-01-2025' '27-06-2024'\n",
      " '08-05-2025' '10-02-2025' '28-05-2025' '25-11-2024' '24-06-2025'\n",
      " '03-12-2024' '07-06-2025' '09-06-2025' '18-08-2024' '30-08-2024'\n",
      " '10-11-2024' '19-11-2024' '05-04-2025' '05-03-2025' '24-03-2025'\n",
      " '16-06-2025']\n",
      "--------------------------------------------------\n",
      "\n",
      "\n",
      "SessionLengthMin\n",
      "[31.2  13.09 19.22 ... 47.62 28.41 30.88]\n",
      "--------------------------------------------------\n",
      "\n",
      "\n",
      "TotalPrompts\n",
      "[11  6  5  1  9  3  8  2  4  7 10 15 12 19 20 13 16 14 25 17 31 21 18 28\n",
      " 23 24 22 26 29 38 33 34 39 30 27 32 36]\n",
      "--------------------------------------------------\n",
      "\n",
      "\n",
      "TaskType\n",
      "['Studying' 'Coding' 'Writing' 'Brainstorming' 'Homework Help' 'Research']\n",
      "--------------------------------------------------\n",
      "\n",
      "\n",
      "AI_AssistanceLevel\n",
      "[2 3 5 4 1]\n",
      "--------------------------------------------------\n",
      "\n",
      "\n",
      "FinalOutcome\n",
      "['Assignment Completed' 'Idea Drafted' 'Confused' 'Gave Up']\n",
      "--------------------------------------------------\n",
      "\n",
      "\n",
      "UsedAgain\n",
      "[ True False]\n",
      "--------------------------------------------------\n",
      "\n",
      "\n",
      "SatisfactionRating\n",
      "[1.  2.  3.3 3.5 2.9 5.  1.9 3.9 1.4 4.9 3.7 2.8 1.2 4.4 3.1 3.6 4.3 3.2\n",
      " 4.  3.4 2.5 2.4 2.6 1.6 2.2 1.7 4.6 4.8 2.3 4.2 4.5 2.7 3.8 3.  1.8 1.5\n",
      " 4.1 4.7 2.1 1.3 1.1]\n",
      "--------------------------------------------------\n",
      "\n",
      "\n"
     ]
    }
   ],
   "source": [
    "#unique values of each features\n",
    "for i in df.columns:\n",
    "    print(i)\n",
    "    print(df[i].unique())\n",
    "    print('-'*50)\n",
    "    print('\\n')\n"
   ]
  },
  {
   "cell_type": "markdown",
   "id": "f659ab8d-0532-47a8-92f2-0e067ed2fd6e",
   "metadata": {},
   "source": [
    "# Outlier Detecting"
   ]
  },
  {
   "cell_type": "code",
   "execution_count": 18,
   "id": "96ed1b9c-c6dc-46a3-bc49-119df6b14f42",
   "metadata": {},
   "outputs": [
    {
     "data": {
      "text/html": [
       "<div>\n",
       "<style scoped>\n",
       "    .dataframe tbody tr th:only-of-type {\n",
       "        vertical-align: middle;\n",
       "    }\n",
       "\n",
       "    .dataframe tbody tr th {\n",
       "        vertical-align: top;\n",
       "    }\n",
       "\n",
       "    .dataframe thead th {\n",
       "        text-align: right;\n",
       "    }\n",
       "</style>\n",
       "<table border=\"1\" class=\"dataframe\">\n",
       "  <thead>\n",
       "    <tr style=\"text-align: right;\">\n",
       "      <th></th>\n",
       "      <th>SessionID</th>\n",
       "      <th>SessionLengthMin</th>\n",
       "      <th>TotalPrompts</th>\n",
       "      <th>AI_AssistanceLevel</th>\n",
       "      <th>SatisfactionRating</th>\n",
       "    </tr>\n",
       "  </thead>\n",
       "  <tbody>\n",
       "    <tr>\n",
       "      <th>0</th>\n",
       "      <td>0</td>\n",
       "      <td>31.20</td>\n",
       "      <td>11</td>\n",
       "      <td>2</td>\n",
       "      <td>1.0</td>\n",
       "    </tr>\n",
       "    <tr>\n",
       "      <th>1</th>\n",
       "      <td>1</td>\n",
       "      <td>13.09</td>\n",
       "      <td>6</td>\n",
       "      <td>3</td>\n",
       "      <td>2.0</td>\n",
       "    </tr>\n",
       "    <tr>\n",
       "      <th>2</th>\n",
       "      <td>2</td>\n",
       "      <td>19.22</td>\n",
       "      <td>5</td>\n",
       "      <td>3</td>\n",
       "      <td>3.3</td>\n",
       "    </tr>\n",
       "    <tr>\n",
       "      <th>3</th>\n",
       "      <td>3</td>\n",
       "      <td>3.70</td>\n",
       "      <td>1</td>\n",
       "      <td>3</td>\n",
       "      <td>3.5</td>\n",
       "    </tr>\n",
       "    <tr>\n",
       "      <th>4</th>\n",
       "      <td>4</td>\n",
       "      <td>28.12</td>\n",
       "      <td>9</td>\n",
       "      <td>3</td>\n",
       "      <td>2.9</td>\n",
       "    </tr>\n",
       "    <tr>\n",
       "      <th>...</th>\n",
       "      <td>...</td>\n",
       "      <td>...</td>\n",
       "      <td>...</td>\n",
       "      <td>...</td>\n",
       "      <td>...</td>\n",
       "    </tr>\n",
       "    <tr>\n",
       "      <th>9995</th>\n",
       "      <td>9995</td>\n",
       "      <td>28.41</td>\n",
       "      <td>5</td>\n",
       "      <td>3</td>\n",
       "      <td>4.2</td>\n",
       "    </tr>\n",
       "    <tr>\n",
       "      <th>9996</th>\n",
       "      <td>9996</td>\n",
       "      <td>13.98</td>\n",
       "      <td>6</td>\n",
       "      <td>5</td>\n",
       "      <td>5.0</td>\n",
       "    </tr>\n",
       "    <tr>\n",
       "      <th>9997</th>\n",
       "      <td>9997</td>\n",
       "      <td>10.78</td>\n",
       "      <td>2</td>\n",
       "      <td>3</td>\n",
       "      <td>3.5</td>\n",
       "    </tr>\n",
       "    <tr>\n",
       "      <th>9998</th>\n",
       "      <td>9998</td>\n",
       "      <td>30.88</td>\n",
       "      <td>7</td>\n",
       "      <td>3</td>\n",
       "      <td>4.3</td>\n",
       "    </tr>\n",
       "    <tr>\n",
       "      <th>9999</th>\n",
       "      <td>9999</td>\n",
       "      <td>10.85</td>\n",
       "      <td>3</td>\n",
       "      <td>4</td>\n",
       "      <td>4.9</td>\n",
       "    </tr>\n",
       "  </tbody>\n",
       "</table>\n",
       "<p>10000 rows × 5 columns</p>\n",
       "</div>"
      ],
      "text/plain": [
       "      SessionID  SessionLengthMin  TotalPrompts  AI_AssistanceLevel  \\\n",
       "0             0             31.20            11                   2   \n",
       "1             1             13.09             6                   3   \n",
       "2             2             19.22             5                   3   \n",
       "3             3              3.70             1                   3   \n",
       "4             4             28.12             9                   3   \n",
       "...         ...               ...           ...                 ...   \n",
       "9995       9995             28.41             5                   3   \n",
       "9996       9996             13.98             6                   5   \n",
       "9997       9997             10.78             2                   3   \n",
       "9998       9998             30.88             7                   3   \n",
       "9999       9999             10.85             3                   4   \n",
       "\n",
       "      SatisfactionRating  \n",
       "0                    1.0  \n",
       "1                    2.0  \n",
       "2                    3.3  \n",
       "3                    3.5  \n",
       "4                    2.9  \n",
       "...                  ...  \n",
       "9995                 4.2  \n",
       "9996                 5.0  \n",
       "9997                 3.5  \n",
       "9998                 4.3  \n",
       "9999                 4.9  \n",
       "\n",
       "[10000 rows x 5 columns]"
      ]
     },
     "execution_count": 18,
     "metadata": {},
     "output_type": "execute_result"
    }
   ],
   "source": [
    "#number columns\n",
    "int_col=df.select_dtypes('number')\n",
    "int_col"
   ]
  },
  {
   "cell_type": "code",
   "execution_count": 19,
   "id": "646e8180-96bf-4530-80c2-a380fdd10f1e",
   "metadata": {},
   "outputs": [
    {
     "data": {
      "image/png": "[encoded data removed]",
      "text/plain": [
       "<Figure size 640x480 with 1 Axes>"
      ]
     },
     "metadata": {},
     "output_type": "display_data"
    },
    {
     "data": {
      "image/png": "[encoded data removed]",
      "text/plain": [
       "<Figure size 640x480 with 1 Axes>"
      ]
     },
     "metadata": {},
     "output_type": "display_data"
    },
    {
     "data": {
      "image/png": "[encoded data removed]",
      "text/plain": [
       "<Figure size 640x480 with 1 Axes>"
      ]
     },
     "metadata": {},
     "output_type": "display_data"
    },
    {
     "data": {
      "image/png": "[encoded data removed]",
      "text/plain": [
       "<Figure size 640x480 with 1 Axes>"
      ]
     },
     "metadata": {},
     "output_type": "display_data"
    },
    {
     "data": {
      "image/png": "[encoded data removed]",
      "text/plain": [
       "<Figure size 640x480 with 1 Axes>"
      ]
     },
     "metadata": {},
     "output_type": "display_data"
    }
   ],
   "source": [
    "for i in int_col:\n",
    "    sns.boxplot(df[i])\n",
    "    plt.title(i)\n",
    "    plt.show()"
   ]
  },
  {
   "cell_type": "code",
   "execution_count": 20,
   "id": "8ce7e1a5-4e44-4e78-b6e1-74378052965b",
   "metadata": {},
   "outputs": [
    {
     "data": {
      "text/plain": [
       "Index(['SessionID', 'SessionLengthMin', 'TotalPrompts', 'AI_AssistanceLevel',\n",
       "       'SatisfactionRating'],\n",
       "      dtype='object')"
      ]
     },
     "execution_count": 20,
     "metadata": {},
     "output_type": "execute_result"
    }
   ],
   "source": [
    "int_col.columns"
   ]
  },
  {
   "cell_type": "code",
   "execution_count": 21,
   "id": "c46abcb5-c19e-495b-8926-9453009866da",
   "metadata": {},
   "outputs": [],
   "source": [
    "#Outlier handling\n",
    "for x in ['SessionID', 'SessionLengthMin', 'TotalPrompts', 'AI_AssistanceLevel']:\n",
    "    q1=df[x].quantile(0.25)\n",
    "    q3=df[x].quantile(0.75)\n",
    "    iqr=q3-q1\n",
    "    lower=q1-1.5*iqr\n",
    "    upper=q3+1.5*iqr\n",
    "    df[x]=np.clip(df[x],upper,lower)"
   ]
  },
  {
   "cell_type": "code",
   "execution_count": 22,
   "id": "bb99a542-cb90-45bb-963c-7d7881a111d1",
   "metadata": {},
   "outputs": [
    {
     "data": {
      "image/png": "[encoded data removed]",
      "text/plain": [
       "<Figure size 640x480 with 1 Axes>"
      ]
     },
     "metadata": {},
     "output_type": "display_data"
    },
    {
     "data": {
      "image/png": "[encoded data removed]",
      "text/plain": [
       "<Figure size 640x480 with 1 Axes>"
      ]
     },
     "metadata": {},
     "output_type": "display_data"
    },
    {
     "data": {
      "image/png": "[encoded data removed]",
      "text/plain": [
       "<Figure size 640x480 with 1 Axes>"
      ]
     },
     "metadata": {},
     "output_type": "display_data"
    },
    {
     "data": {
      "image/png": "[encoded data removed]",
      "text/plain": [
       "<Figure size 640x480 with 1 Axes>"
      ]
     },
     "metadata": {},
     "output_type": "display_data"
    },
    {
     "data": {
      "image/png": "[encoded data removed]",
      "text/plain": [
       "<Figure size 640x480 with 1 Axes>"
      ]
     },
     "metadata": {},
     "output_type": "display_data"
    }
   ],
   "source": [
    "for i in int_col: \n",
    "    sns.boxplot(df[i]) \n",
    "    plt.title(i) \n",
    "    plt.show()"
   ]
  },
  {
   "cell_type": "markdown",
   "id": "4595a2dd-46ee-4cbe-8b76-433baaed4a55",
   "metadata": {},
   "source": [
    "# Analysis "
   ]
  },
  {
   "cell_type": "markdown",
   "id": "803dfe89-a367-4cc4-82c9-b822da99208b",
   "metadata": {},
   "source": [
    "**1 What is the average session length for each task type?**\n"
   ]
  },
  {
   "cell_type": "code",
   "execution_count": 23,
   "id": "15759322-fde1-4281-bf0e-baf502ea3cf3",
   "metadata": {},
   "outputs": [
    {
     "data": {
      "text/plain": [
       "TaskType\n",
       "Brainstorming    21.541765\n",
       "Research         20.044475\n",
       "Homework Help    19.507402\n",
       "Studying         19.393941\n",
       "Writing          19.365176\n",
       "Coding           19.202223\n",
       "Name: SessionLengthMin, dtype: float64"
      ]
     },
     "execution_count": 23,
     "metadata": {},
     "output_type": "execute_result"
    }
   ],
   "source": [
    "df.groupby('TaskType')['SessionLengthMin'].mean().sort_values(ascending=False)"
   ]
  },
  {
   "cell_type": "markdown",
   "id": "0ec5123f-b62b-450e-acf6-976c13268cc0",
   "metadata": {},
   "source": [
    "* it shows which task take longer\n",
    "* Brainstorming take more time than studying"
   ]
  },
  {
   "cell_type": "markdown",
   "id": "e10dfb9a-8e29-46ac-b4a6-35dfda4e6dfc",
   "metadata": {},
   "source": [
    "**2 Which discipline uses the highest average number of prompts?**"
   ]
  },
  {
   "cell_type": "code",
   "execution_count": 24,
   "id": "52fddd85-b74d-4895-8fff-dd87382aa52c",
   "metadata": {},
   "outputs": [
    {
     "data": {
      "text/plain": [
       "Discipline\n",
       "Engineering         5.547552\n",
       "History             5.529287\n",
       "Psychology          5.526798\n",
       "Biology             5.482167\n",
       "Math                5.447257\n",
       "Computer Science    5.404844\n",
       "Business            5.404255\n",
       "Name: TotalPrompts, dtype: float64"
      ]
     },
     "execution_count": 24,
     "metadata": {},
     "output_type": "execute_result"
    }
   ],
   "source": [
    "df.groupby('Discipline')['TotalPrompts'].mean().sort_values(ascending=False)"
   ]
  },
  {
   "cell_type": "markdown",
   "id": "68834e1b-a402-43ab-a3b6-0b4b4ecaac19",
   "metadata": {},
   "source": [
    "* Disciplines like Computer Science needs more prompts, indicating heavier AI support.\n",
    "* Engineering students use the most AI prompts on average.\n",
    "* Possibly due to complex problem-solving or more interaction with AI tools.\n",
    "* Business and Computer Science students use fewer prompts than others.\n",
    "* May indicate more efficient sessions or simpler tasks.\n",
    "* The difference between disciplines is not very large, suggesting fairly consistent usage across fields."
   ]
  },
  {
   "cell_type": "markdown",
   "id": "09ef3ab3-af43-4f02-94b6-003d633d581d",
   "metadata": {},
   "source": [
    "**3 What is the average AI Assistance Level per task type?**"
   ]
  },
  {
   "cell_type": "code",
   "execution_count": 25,
   "id": "09bc08a1-8623-418c-8307-faae03cffc55",
   "metadata": {},
   "outputs": [
    {
     "data": {
      "text/plain": [
       "TaskType\n",
       "Research         3.429622\n",
       "Brainstorming    3.438025\n",
       "Studying         3.474020\n",
       "Writing          3.483554\n",
       "Homework Help    3.515569\n",
       "Coding           3.526694\n",
       "Name: AI_AssistanceLevel, dtype: float64"
      ]
     },
     "execution_count": 25,
     "metadata": {},
     "output_type": "execute_result"
    }
   ],
   "source": [
    "df.groupby('TaskType')['AI_AssistanceLevel'].mean().sort_values(ascending=True)"
   ]
  },
  {
   "cell_type": "markdown",
   "id": "108a9e2a-5e4b-4e40-ace2-a7f1bbfb2623",
   "metadata": {},
   "source": [
    "*  It Reveals which tasks require more complex AI help\n",
    "* Coding and Homework help needs higher assistance than Studying.but difference is not very large each one vary slightly. "
   ]
  },
  {
   "cell_type": "markdown",
   "id": "ce430dc8-538d-44f0-bc1e-ab4a65d80cc9",
   "metadata": {},
   "source": [
    "**4 What is the average satisfaction rating for students who would use AI again vs not?** "
   ]
  },
  {
   "cell_type": "code",
   "execution_count": 26,
   "id": "5ceb5d90-d760-459b-becd-7ec454b21555",
   "metadata": {},
   "outputs": [
    {
     "data": {
      "text/plain": [
       "UsedAgain\n",
       "False    3.434366\n",
       "True     3.410886\n",
       "Name: SatisfactionRating, dtype: float64"
      ]
     },
     "execution_count": 26,
     "metadata": {},
     "output_type": "execute_result"
    }
   ],
   "source": [
    "df.groupby('UsedAgain')['SatisfactionRating'].mean()"
   ]
  },
  {
   "cell_type": "markdown",
   "id": "660611af-5e5b-4e67-a5bf-e9fd900dc427",
   "metadata": {},
   "source": [
    "* Usually, users who say “UsedAgain = True” will have higher satisfaction ratings."
   ]
  },
  {
   "cell_type": "markdown",
   "id": "e17c6632-f2f8-49bd-9f0a-534d91a6cc4b",
   "metadata": {},
   "source": [
    "**5 What’s the most common task type per discipline?**"
   ]
  },
  {
   "cell_type": "code",
   "execution_count": 27,
   "id": "df955821-ed36-400f-aff5-26d646be6f13",
   "metadata": {},
   "outputs": [
    {
     "data": {
      "text/plain": [
       "Discipline\n",
       "Biology             Writing\n",
       "Business            Writing\n",
       "Computer Science    Writing\n",
       "Engineering         Writing\n",
       "History             Writing\n",
       "Math                Writing\n",
       "Psychology          Writing\n",
       "Name: TaskType, dtype: object"
      ]
     },
     "execution_count": 27,
     "metadata": {},
     "output_type": "execute_result"
    }
   ],
   "source": [
    "df.groupby('Discipline')['TaskType'].agg(lambda x: x.mode()[0])"
   ]
  },
  {
   "cell_type": "markdown",
   "id": "4b3e9151-59e8-41a6-b775-a6bae734aad2",
   "metadata": {},
   "source": [
    "* It tells which types of activities dominate in each subject area.\n",
    "* Each subject mostly used for writing purpose."
   ]
  },
  {
   "cell_type": "markdown",
   "id": "49223acc-a198-404e-a6e8-ae58d786c160",
   "metadata": {},
   "source": [
    "**6 What is the average number of prompts for completed vs not completed outcomes?**"
   ]
  },
  {
   "cell_type": "code",
   "execution_count": 28,
   "id": "6a2fb6bf-239b-4f87-af7d-03ee7ba7d468",
   "metadata": {},
   "outputs": [
    {
     "data": {
      "text/plain": [
       "FinalOutcome\n",
       "Gave Up                 5.707835\n",
       "Idea Drafted            5.526169\n",
       "Assignment Completed    5.459522\n",
       "Confused                5.336020\n",
       "Name: TotalPrompts, dtype: float64"
      ]
     },
     "execution_count": 28,
     "metadata": {},
     "output_type": "execute_result"
    }
   ],
   "source": [
    "df.groupby('FinalOutcome')['TotalPrompts'].mean().sort_values(ascending=False)"
   ]
  },
  {
   "cell_type": "markdown",
   "id": "efd868e7-0bbf-4573-b514-4626c6d64652",
   "metadata": {},
   "source": [
    "* Helps determine whether more interaction leads to better outcomes.\n",
    "* \"Gave Up\" sessions used the highest average number of prompts.\n",
    "* Students tried more interactions before giving up.\n",
    "* This suggests the AI may not have met their expectations, even after several attempts."
   ]
  },
  {
   "cell_type": "markdown",
   "id": "998b5020-6ca8-42f4-b130-b7809f50ddfc",
   "metadata": {},
   "source": [
    "**7  What percentage of sessions were from each student level?**"
   ]
  },
  {
   "cell_type": "code",
   "execution_count": 29,
   "id": "a45088a2-0c01-45a3-8741-93b06a48037a",
   "metadata": {},
   "outputs": [
    {
     "data": {
      "text/plain": [
       "StudentLevel\n",
       "Undergraduate    59.78\n",
       "High School      20.27\n",
       "Graduate         19.95\n",
       "Name: proportion, dtype: float64"
      ]
     },
     "execution_count": 29,
     "metadata": {},
     "output_type": "execute_result"
    }
   ],
   "source": [
    "df['StudentLevel'].value_counts(normalize=True) * 100"
   ]
  },
  {
   "cell_type": "markdown",
   "id": "3057cfa1-ceef-4cc3-af71-963893de3ecb",
   "metadata": {},
   "source": [
    "* The AI assistance tool is most heavily used by undergraduate students.\n",
    "* High school usage shows that younger students are adopting AI tools early, possibly for writing or studying."
   ]
  },
  {
   "cell_type": "markdown",
   "id": "242d76a8-cc7e-414c-8aa8-fea9cae7cb06",
   "metadata": {},
   "source": [
    "**8 Which AI assistance level is used most frequently?**"
   ]
  },
  {
   "cell_type": "code",
   "execution_count": 30,
   "id": "b8124d1e-3f1e-483f-bc5a-27e6fcc83192",
   "metadata": {},
   "outputs": [
    {
     "data": {
      "text/plain": [
       "AI_AssistanceLevel\n",
       "4.0    3451\n",
       "3.0    3361\n",
       "5.0    1591\n",
       "2.0    1356\n",
       "1.5     241\n",
       "Name: count, dtype: int64"
      ]
     },
     "execution_count": 30,
     "metadata": {},
     "output_type": "execute_result"
    }
   ],
   "source": [
    "df['AI_AssistanceLevel'].value_counts().sort_values(ascending=False)"
   ]
  },
  {
   "cell_type": "markdown",
   "id": "599665d5-d10b-4de8-bb26-42507342af2d",
   "metadata": {},
   "source": [
    "* Identifies the most common AI level used. This can tells which assistance level students prefer."
   ]
  },
  {
   "cell_type": "markdown",
   "id": "db2c3970-a861-431b-aa44-28e205127887",
   "metadata": {},
   "source": [
    "**9 What is the most common final outcome across all sessions?**"
   ]
  },
  {
   "cell_type": "code",
   "execution_count": 31,
   "id": "f8601eb6-fbbe-4ad2-a7ea-9c5def1590cc",
   "metadata": {},
   "outputs": [
    {
     "data": {
      "text/plain": [
       "FinalOutcome\n",
       "Assignment Completed    4768\n",
       "Idea Drafted            2866\n",
       "Confused                1613\n",
       "Gave Up                  753\n",
       "Name: count, dtype: int64"
      ]
     },
     "execution_count": 31,
     "metadata": {},
     "output_type": "execute_result"
    }
   ],
   "source": [
    "df['FinalOutcome'].value_counts()"
   ]
  },
  {
   "cell_type": "markdown",
   "id": "fd8e8599-401c-4cf0-ae92-70f40221be32",
   "metadata": {},
   "source": [
    "* It shows what result students usually reach.\n",
    "* Most of the students used it for assignment completion purpose"
   ]
  },
  {
   "cell_type": "markdown",
   "id": "636b4a70-0a19-4944-9816-3b34523585ce",
   "metadata": {},
   "source": [
    "**10 What is the average number of prompts per task type?**"
   ]
  },
  {
   "cell_type": "code",
   "execution_count": 32,
   "id": "6bb3b206-c4d8-4301-8fea-624a24bbfaac",
   "metadata": {},
   "outputs": [
    {
     "data": {
      "text/plain": [
       "TaskType\n",
       "Brainstorming    6.107143\n",
       "Research         5.600840\n",
       "Homework Help    5.487494\n",
       "Coding           5.429671\n",
       "Studying         5.423039\n",
       "Writing          5.421154\n",
       "Name: TotalPrompts, dtype: float64"
      ]
     },
     "execution_count": 32,
     "metadata": {},
     "output_type": "execute_result"
    }
   ],
   "source": [
    "df.groupby('TaskType')['TotalPrompts'].mean().sort_values(ascending=False)"
   ]
  },
  {
   "cell_type": "markdown",
   "id": "705bc74e-7f2a-4b5d-a4b1-f762e10a0ae4",
   "metadata": {},
   "source": [
    "* Brainstorming has the highest average prompt count.\n",
    "* It shows that students rely heavily on AI for generating and exploring ideas, requiring back-and-forth communication to refine thoughts.\n",
    "* It’s a creative, open-ended task, so users naturally ask more questions.\n",
    "* lower-prompt tasks, maintain efficiency while ensuring depth of explanation and clarity, especially for studying and academic writing ."
   ]
  },
  {
   "cell_type": "markdown",
   "id": "dab418fe-84ce-438f-b035-67c626881705",
   "metadata": {},
   "source": [
    "**11 What is the relationship between the TaskType and whether a student UsedAgain the AI assistant?**"
   ]
  },
  {
   "cell_type": "code",
   "execution_count": 33,
   "id": "8db937ca-0f2e-437e-b40e-953241d8c84b",
   "metadata": {},
   "outputs": [
    {
     "data": {
      "text/html": [
       "<div>\n",
       "<style scoped>\n",
       "    .dataframe tbody tr th:only-of-type {\n",
       "        vertical-align: middle;\n",
       "    }\n",
       "\n",
       "    .dataframe tbody tr th {\n",
       "        vertical-align: top;\n",
       "    }\n",
       "\n",
       "    .dataframe thead th {\n",
       "        text-align: right;\n",
       "    }\n",
       "</style>\n",
       "<table border=\"1\" class=\"dataframe\">\n",
       "  <thead>\n",
       "    <tr style=\"text-align: right;\">\n",
       "      <th>UsedAgain</th>\n",
       "      <th>False</th>\n",
       "      <th>True</th>\n",
       "    </tr>\n",
       "    <tr>\n",
       "      <th>TaskType</th>\n",
       "      <th></th>\n",
       "      <th></th>\n",
       "    </tr>\n",
       "  </thead>\n",
       "  <tbody>\n",
       "    <tr>\n",
       "      <th>Brainstorming</th>\n",
       "      <td>0.0145</td>\n",
       "      <td>0.0331</td>\n",
       "    </tr>\n",
       "    <tr>\n",
       "      <th>Coding</th>\n",
       "      <td>0.0502</td>\n",
       "      <td>0.1446</td>\n",
       "    </tr>\n",
       "    <tr>\n",
       "      <th>Homework Help</th>\n",
       "      <td>0.0614</td>\n",
       "      <td>0.1345</td>\n",
       "    </tr>\n",
       "    <tr>\n",
       "      <th>Research</th>\n",
       "      <td>0.0170</td>\n",
       "      <td>0.0306</td>\n",
       "    </tr>\n",
       "    <tr>\n",
       "      <th>Studying</th>\n",
       "      <td>0.0649</td>\n",
       "      <td>0.1391</td>\n",
       "    </tr>\n",
       "    <tr>\n",
       "      <th>Writing</th>\n",
       "      <td>0.0856</td>\n",
       "      <td>0.2245</td>\n",
       "    </tr>\n",
       "  </tbody>\n",
       "</table>\n",
       "</div>"
      ],
      "text/plain": [
       "UsedAgain       False   True \n",
       "TaskType                     \n",
       "Brainstorming  0.0145  0.0331\n",
       "Coding         0.0502  0.1446\n",
       "Homework Help  0.0614  0.1345\n",
       "Research       0.0170  0.0306\n",
       "Studying       0.0649  0.1391\n",
       "Writing        0.0856  0.2245"
      ]
     },
     "execution_count": 33,
     "metadata": {},
     "output_type": "execute_result"
    }
   ],
   "source": [
    "pd.crosstab(df['TaskType'],df['UsedAgain'],normalize=True)"
   ]
  },
  {
   "cell_type": "markdown",
   "id": "5647cc45-e475-470b-be99-0718a37f54a8",
   "metadata": {},
   "source": [
    "* Coding has the highest rate of students returning for AI assistance, suggesting AI is especially helpful in coding tasks.\n",
    "* Research has the lowest repeat usage, suggesting the AI may be less effective or engaging in supporting research activities.\n",
    "* Across all task types, more users returned to use the AI assistant than not."
   ]
  },
  {
   "cell_type": "markdown",
   "id": "20764876-e57f-4824-af91-51f4e2387819",
   "metadata": {},
   "source": [
    "## Visualization"
   ]
  },
  {
   "cell_type": "markdown",
   "id": "0ad341ee-a0c6-4557-8e6e-3c20d884d854",
   "metadata": {},
   "source": [
    "**What is the distribution of student levels in AI assistant usage?**"
   ]
  },
  {
   "cell_type": "code",
   "execution_count": 34,
   "id": "8b69ae70-0c05-429d-a25c-51518908ed41",
   "metadata": {},
   "outputs": [
    {
     "data": {
      "image/png": "[encoded data removed]",
      "text/plain": [
       "<Figure size 800x500 with 1 Axes>"
      ]
     },
     "metadata": {},
     "output_type": "display_data"
    }
   ],
   "source": [
    "plt.figure(figsize=(8,5))\n",
    "sns.countplot(x='StudentLevel',data=df,palette='pastel')\n",
    "plt.title('Distribution of Student Levels')\n",
    "plt.xlabel('Student Level')\n",
    "plt.ylabel('Count')\n",
    "plt.tight_layout()\n",
    "plt.show()"
   ]
  },
  {
   "cell_type": "markdown",
   "id": "2923e1e4-37fd-4f91-81e7-a5864e7bfe1a",
   "metadata": {},
   "source": [
    "* Undergraduate students dominate AI assistant usage with 59.78% of sessions,\n",
    "indicating higher adoption among university students than high school or graduate students."
   ]
  },
  {
   "cell_type": "markdown",
   "id": "e9980cd9-0031-4a67-90cc-52d65b6d836a",
   "metadata": {},
   "source": [
    "**Are students more satisfied with more advanced AI help?**"
   ]
  },
  {
   "cell_type": "code",
   "execution_count": 35,
   "id": "58abbb41-7df5-4253-bdfb-38b84603f4ca",
   "metadata": {},
   "outputs": [
    {
     "data": {
      "image/png": "[encoded data removed]",
      "text/plain": [
       "<Figure size 800x400 with 1 Axes>"
      ]
     },
     "metadata": {},
     "output_type": "display_data"
    }
   ],
   "source": [
    "ai_satisfaction = df.groupby('AI_AssistanceLevel')['SatisfactionRating'].mean()\n",
    "\n",
    "plt.figure(figsize=(8,4))\n",
    "sns.lineplot(x=ai_satisfaction.index, y=ai_satisfaction.values, marker='o', color='green')\n",
    "plt.title('Satisfaction by AI Assistance Level')\n",
    "plt.xlabel('AI Assistance Level')\n",
    "plt.ylabel('Avg. Satisfaction Rating')\n",
    "plt.grid(True)\n",
    "plt.tight_layout()\n",
    "plt.show()\n"
   ]
  },
  {
   "cell_type": "markdown",
   "id": "730a7f8d-9af9-4b6d-be07-9b8cc58648a6",
   "metadata": {},
   "source": [
    "* Higher AI assistance is significantly associated with better student experience.\n",
    "* This suggests that more intelligent or personalized AI support leads to greater perceived value and satisfaction among users."
   ]
  },
  {
   "cell_type": "markdown",
   "id": "af23b926-f1dc-4709-8d29-0c50a8b6b68a",
   "metadata": {},
   "source": [
    "**What are the most common final outcomes of AI-assisted student sessions?**"
   ]
  },
  {
   "cell_type": "code",
   "execution_count": 36,
   "id": "6cfb98e2-acb9-4192-adad-d5b0d0218b58",
   "metadata": {
    "scrolled": true
   },
   "outputs": [
    {
     "data": {
      "image/png": "[encoded data removed]",
      "text/plain": [
       "<Figure size 600x600 with 1 Axes>"
      ]
     },
     "metadata": {},
     "output_type": "display_data"
    }
   ],
   "source": [
    "outcome_counts = df['FinalOutcome'].value_counts()\n",
    "\n",
    "plt.figure(figsize=(6,6))\n",
    "plt.pie(outcome_counts, labels=outcome_counts.index, autopct='%1.1f%%', startangle=140, wedgeprops={'width':0.4})\n",
    "plt.title('Final Outcome Distribution')\n",
    "plt.tight_layout()\n",
    "plt.show()\n"
   ]
  },
  {
   "cell_type": "markdown",
   "id": "606d4a38-3ea8-4c5b-9789-8628dbf014db",
   "metadata": {},
   "source": [
    "* Nearly 48% of AI-assisted sessions ended in full assignment completion, showing that the AI tool is effective for helping students finish their work.\n",
    "* Around 29% led to ideas being drafted, which means students made progress but didn’t complete the task.\n",
    "* However, about 16% of students felt confused, and 7.5% gave up, suggesting that the AI may not always provide clear or helpful support for every type of task."
   ]
  },
  {
   "cell_type": "markdown",
   "id": "de183a92-80d8-4f03-9443-fdff9922d874",
   "metadata": {},
   "source": [
    "**Is higher AI Assistance Level always linked to higher prompt counts?**"
   ]
  },
  {
   "cell_type": "code",
   "execution_count": 37,
   "id": "2e714db2-8963-4da7-b663-10a4b30f23a1",
   "metadata": {},
   "outputs": [
    {
     "data": {
      "image/png": "[encoded data removed]",
      "text/plain": [
       "<Figure size 800x500 with 1 Axes>"
      ]
     },
     "metadata": {},
     "output_type": "display_data"
    }
   ],
   "source": [
    "plt.figure(figsize=(8,5))\n",
    "sns.boxplot(x='AI_AssistanceLevel', y='TotalPrompts', data=df, palette='coolwarm')\n",
    "plt.title('Prompt Count by AI Assistance Level')\n",
    "plt.tight_layout()\n",
    "plt.show()"
   ]
  },
  {
   "cell_type": "markdown",
   "id": "5a70d31c-66bc-4f76-b14b-b91cd0e9d72f",
   "metadata": {},
   "source": [
    "* Helps to understand how much users rely on AI at different levels."
   ]
  },
  {
   "cell_type": "markdown",
   "id": "0c394ec6-f4be-4f2d-8899-714d5ef81d7b",
   "metadata": {},
   "source": [
    "**How do numeric features correlate with each other?**"
   ]
  },
  {
   "cell_type": "code",
   "execution_count": 38,
   "id": "8ad31ff5-6c4b-43d9-9432-f180b21bd174",
   "metadata": {},
   "outputs": [
    {
     "data": {
      "image/png": "[encoded data removed]",
      "text/plain": [
       "<Figure size 800x600 with 2 Axes>"
      ]
     },
     "metadata": {},
     "output_type": "display_data"
    }
   ],
   "source": [
    "plt.figure(figsize=(8, 6))\n",
    "numeric_cols = df.select_dtypes(include=['float64', 'int64']).columns\n",
    "correlation_matrix = df[numeric_cols].corr()\n",
    "sns.heatmap(correlation_matrix, annot=True, cmap='coolwarm', fmt='.2f')\n",
    "plt.title('Correlation Heatmap of Numeric Features')\n",
    "plt.tight_layout()\n",
    "plt.show()"
   ]
  },
  {
   "cell_type": "markdown",
   "id": "70bca6b4-d156-436b-b4b0-aa8d887f791e",
   "metadata": {},
   "source": [
    "* Moderate positive correlation exists between AI assistance level and satisfaction rating, \n",
    "while session length shows weak correlations with other variables."
   ]
  },
  {
   "cell_type": "code",
   "execution_count": null,
   "id": "f5a4a47a-1546-45c2-bb8f-6cafd0b1c15c",
   "metadata": {},
   "outputs": [],
   "source": []
  }
 ],
 "metadata": {
  "kernelspec": {
   "display_name": "Python [conda env:base] *",
   "language": "python",
   "name": "conda-base-py"
  },
  "language_info": {
   "codemirror_mode": {
    "name": "ipython",
    "version": 3
   },
   "file_extension": ".py",
   "mimetype": "text/x-python",
   "name": "python",
   "nbconvert_exporter": "python",
   "pygments_lexer": "ipython3",
   "version": "3.12.7"
  }
 },
 "nbformat": 4,
 "nbformat_minor": 5
}
